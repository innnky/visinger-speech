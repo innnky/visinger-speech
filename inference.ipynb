{
 "cells": [
  {
   "cell_type": "code",
   "execution_count": 1,
   "metadata": {},
   "outputs": [],
   "source": [
    "%matplotlib inline\n",
    "import matplotlib.pyplot as plt\n",
    "import IPython.display as ipd\n",
    "\n",
    "import os\n",
    "import json\n",
    "import math\n",
    "import torch\n",
    "from torch import nn\n",
    "from torch.nn import functional as F\n",
    "from torch.utils.data import DataLoader\n",
    "\n",
    "import commons\n",
    "import utils\n",
    "from data_utils import TextAudioLoader, TextAudioCollate, TextAudioSpeakerLoader, TextAudioSpeakerCollate\n",
    "from models import SynthesizerTrn\n",
    "from text.symbols import symbols\n",
    "from text import text_to_sequence\n",
    "\n",
    "from scipy.io.wavfile import write\n",
    "def get_text(text, hps):\n",
    "    text_norm = text_to_sequence(text)\n",
    "    text_norm = torch.LongTensor(text_norm)\n",
    "    return text_norm\n",
    "hps = utils.get_hparams_from_file(\"./configs/ms.json\")\n",
    "net_g = SynthesizerTrn(\n",
    "    len(symbols),\n",
    "    hps.data.filter_length // 2 + 1,\n",
    "    hps.train.segment_size // hps.data.hop_length,\n",
    "    n_speakers=hps.data.n_speakers,\n",
    "    sampling_rate=44100,\n",
    "    segment_size=16384,\n",
    "    **hps.model)\n",
    "_ = net_g.eval()\n",
    "\n",
    "# _ = utils.load_checkpoint(\"/path/to/pretrained_vctk.pth\", net_g, None)"
   ]
  },
  {
   "cell_type": "code",
   "execution_count": 2,
   "metadata": {},
   "outputs": [
    {
     "name": "stderr",
     "output_type": "stream",
     "text": [
      "Building prefix dict from the default dictionary ...\n"
     ]
    },
    {
     "name": "stdout",
     "output_type": "stream",
     "text": [
      "DEBUG:jieba:Building prefix dict from the default dictionary ...\n"
     ]
    },
    {
     "name": "stderr",
     "output_type": "stream",
     "text": [
      "Loading model from cache /var/folders/36/6m8zyz714bg9_1lb7qry0kzr0000gn/T/jieba.cache\n"
     ]
    },
    {
     "name": "stdout",
     "output_type": "stream",
     "text": [
      "DEBUG:jieba:Loading model from cache /var/folders/36/6m8zyz714bg9_1lb7qry0kzr0000gn/T/jieba.cache\n"
     ]
    },
    {
     "name": "stderr",
     "output_type": "stream",
     "text": [
      "Loading model cost 0.313 seconds.\n"
     ]
    },
    {
     "name": "stdout",
     "output_type": "stream",
     "text": [
      "DEBUG:jieba:Loading model cost 0.313 seconds.\n"
     ]
    },
    {
     "name": "stderr",
     "output_type": "stream",
     "text": [
      "Prefix dict has been built successfully.\n"
     ]
    },
    {
     "name": "stdout",
     "output_type": "stream",
     "text": [
      "DEBUG:jieba:Prefix dict has been built successfully.\n"
     ]
    },
    {
     "data": {
      "text/plain": "<IPython.lib.display.Audio object>",
      "text/html": "\n                <audio  controls=\"controls\" >\n                    <source src=\"data:audio/wav;base64,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\" type=\"audio/wav\" />\n                    Your browser does not support the audio element.\n                </audio>\n              "
     },
     "metadata": {},
     "output_type": "display_data"
    }
   ],
   "source": [
    "stn_tst = get_text(\"大家好啊,我是说的道理\", hps)\n",
    "with torch.no_grad():\n",
    "    x_tst = stn_tst.unsqueeze(0)\n",
    "    x_tst_lengths = torch.LongTensor([stn_tst.size(0)])\n",
    "    sid = torch.LongTensor([1])\n",
    "    audio = net_g.infer(x_tst, x_tst_lengths, sid=sid, noise_scale=.667, noise_scale_w=0.8, length_scale=1)[0][0,0].data.cpu().float().numpy()\n",
    "ipd.display(ipd.Audio(audio, rate=hps.data.sampling_rate, normalize=False))"
   ]
  },
  {
   "cell_type": "markdown",
   "metadata": {},
   "source": [
    "### Voice Conversion"
   ]
  },
  {
   "cell_type": "code",
   "execution_count": null,
   "metadata": {},
   "outputs": [],
   "source": [
    "dataset = TextAudioSpeakerLoader(hps.data.validation_files, hps.data)\n",
    "collate_fn = TextAudioSpeakerCollate()\n",
    "loader = DataLoader(dataset, num_workers=8, shuffle=False,\n",
    "    batch_size=1, pin_memory=True,\n",
    "    drop_last=True, collate_fn=collate_fn)\n",
    "data_list = list(loader)"
   ]
  },
  {
   "cell_type": "code",
   "execution_count": null,
   "metadata": {},
   "outputs": [],
   "source": [
    "with torch.no_grad():\n",
    "    x, x_lengths, spec, spec_lengths, y, y_lengths, sid_src = [x.cuda() for x in data_list[0]]\n",
    "    sid_tgt1 = torch.LongTensor([1]).cuda()\n",
    "    sid_tgt2 = torch.LongTensor([2]).cuda()\n",
    "    sid_tgt3 = torch.LongTensor([4]).cuda()\n",
    "    audio1 = net_g.voice_conversion(spec, spec_lengths, sid_src=sid_src, sid_tgt=sid_tgt1)[0][0,0].data.cpu().float().numpy()\n",
    "    audio2 = net_g.voice_conversion(spec, spec_lengths, sid_src=sid_src, sid_tgt=sid_tgt2)[0][0,0].data.cpu().float().numpy()\n",
    "    audio3 = net_g.voice_conversion(spec, spec_lengths, sid_src=sid_src, sid_tgt=sid_tgt3)[0][0,0].data.cpu().float().numpy()\n",
    "print(\"Original SID: %d\" % sid_src.item())\n",
    "ipd.display(ipd.Audio(y[0].cpu().numpy(), rate=hps.data.sampling_rate, normalize=False))\n",
    "print(\"Converted SID: %d\" % sid_tgt1.item())\n",
    "ipd.display(ipd.Audio(audio1, rate=hps.data.sampling_rate, normalize=False))\n",
    "print(\"Converted SID: %d\" % sid_tgt2.item())\n",
    "ipd.display(ipd.Audio(audio2, rate=hps.data.sampling_rate, normalize=False))\n",
    "print(\"Converted SID: %d\" % sid_tgt3.item())\n",
    "ipd.display(ipd.Audio(audio3, rate=hps.data.sampling_rate, normalize=False))"
   ]
  }
 ],
 "metadata": {
  "kernelspec": {
   "display_name": "Python 3",
   "language": "python",
   "name": "python3"
  },
  "language_info": {
   "codemirror_mode": {
    "name": "ipython",
    "version": 3
   },
   "file_extension": ".py",
   "mimetype": "text/x-python",
   "name": "python",
   "nbconvert_exporter": "python",
   "pygments_lexer": "ipython3",
   "version": "3.7.7"
  }
 },
 "nbformat": 4,
 "nbformat_minor": 4
}