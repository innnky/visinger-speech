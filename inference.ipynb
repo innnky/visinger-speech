{
 "cells": [
  {
   "cell_type": "code",
   "execution_count": 1,
   "metadata": {},
   "outputs": [],
   "source": [
    "from data_utils import *\n",
    "import IPython.display as ipd\n",
    "import torch\n",
    "import utils\n",
    "from models import SynthesizerTrn\n",
    "from text.symbols import symbols\n",
    "from text import text_to_sequence\n",
    "hps = utils.get_hparams_from_file(\"configs/multispeaker.json\")\n",
    "import matplotlib.pyplot as plt\n",
    "\n",
    "net_g = SynthesizerTrn(\n",
    "  len(symbols),\n",
    "  hps.data.filter_length // 2 + 1,\n",
    "  hps.data.hop_length,\n",
    "  hps.data.sampling_rate,\n",
    "  hps.train.segment_size // hps.data.hop_length,\n",
    "  n_speakers=hps.data.n_speakers,\n",
    "  **hps.model)\n"
   ]
  },
  {
   "cell_type": "code",
   "execution_count": 2,
   "metadata": {
    "pycharm": {
     "name": "#%%\n"
    }
   },
   "outputs": [],
   "source": [
    "def get_text(text):\n",
    "    text_norm = text_to_sequence(text)\n",
    "    text_norm = torch.LongTensor(text_norm)\n",
    "    return text_norm\n",
    "def tts(txt,sid=0,device=\"cpu\"):\n",
    "    stn_tst = get_text(txt)\n",
    "    with torch.no_grad():\n",
    "        x_tst = stn_tst.unsqueeze(0)\n",
    "        x_tst_lengths = torch.LongTensor([stn_tst.size(0)])\n",
    "        spk = torch.LongTensor([sid])\n",
    "        t1 = time.time()\n",
    "        res = net_g.to(device).infer(x_tst.to(device), x_tst_lengths.to(device),sid=spk, noise_scale=.667, noise_scale_w=0.8, length_scale=1)\n",
    "        audio = res[0][0,0].cpu().data.float().numpy()\n",
    "        f0 = res\n",
    "        t2 = time.time()\n",
    "        print(\"推理时间：\", (t2-t1),\"s\")\n",
    "    ipd.display(ipd.Audio(audio, rate=hps.data.sampling_rate))\n",
    "    return f0[-1]"
   ]
  },
  {
   "cell_type": "code",
   "execution_count": 2,
   "metadata": {
    "pycharm": {
     "name": "#%%\n"
    }
   },
   "outputs": [],
   "source": [
    "!ls logs_rewrite/ms/G_*"
   ]
  },
  {
   "cell_type": "code",
   "execution_count": 3,
   "metadata": {},
   "outputs": [],
   "source": [
    "_ = utils.load_checkpoint(\"logs_rewrite/ms/G_26400.pth\", net_g, None)"
   ]
  },
  {
   "cell_type": "code",
   "execution_count": 4,
   "metadata": {
    "pycharm": {
     "name": "#%%\n"
    }
   },
   "outputs": [],
   "source": [
    "text = \"志云大师急需扛起大旗收拾烂摊子.\"\n",
    "f0 = tts(text, 0)\n",
    "plt.plot(f0[0,:])"
   ]
  },
  {
   "cell_type": "code",
   "execution_count": null,
   "outputs": [],
   "source": [],
   "metadata": {
    "collapsed": false,
    "pycharm": {
     "name": "#%%\n"
    }
   }
  }
 ],
 "metadata": {
  "kernelspec": {
   "display_name": "Python 3 (ipykernel)",
   "language": "python",
   "name": "python3"
  },
  "language_info": {
   "codemirror_mode": {
    "name": "ipython",
    "version": 3
   },
   "file_extension": ".py",
   "mimetype": "text/x-python",
   "name": "python",
   "nbconvert_exporter": "python",
   "pygments_lexer": "ipython3",
   "version": "3.8.13"
  }
 },
 "nbformat": 4,
 "nbformat_minor": 1
}