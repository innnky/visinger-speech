{
 "cells": [
  {
   "cell_type": "code",
   "execution_count": null,
   "metadata": {
    "collapsed": true
   },
   "outputs": [],
   "source": [
    "from data_utils import *\n",
    "import IPython.display as ipd\n",
    "import torch\n",
    "import utils\n",
    "from models import SynthesizerTrn\n",
    "from text.symbols import symbols\n",
    "from infer_utils import preprocess_input\n",
    "hps = utils.get_hparams_from_file(\"configs/ljs_base.json\")\n",
    "\n",
    "net_g = SynthesizerTrn(\n",
    "  len(symbols),\n",
    "  hps.data.filter_length // 2 + 1,\n",
    "  hps.data.hop_length,\n",
    "  hps.data.sampling_rate,\n",
    "  hps.train.segment_size // hps.data.hop_length,\n",
    "  **hps.model)"
   ]
  },
  {
   "cell_type": "code",
   "execution_count": null,
   "outputs": [],
   "source": [
    "\n",
    "def infer(inp,length_scale=1):\n",
    "  item = preprocess_input(inp)\n",
    "  ph_token = torch.LongTensor(item[\"ph_token\"]).unsqueeze(0)\n",
    "  ph_len = torch.LongTensor([item[\"ph_len\"]])\n",
    "  pitch_midi = torch.LongTensor(item[\"pitch_midi\"]).unsqueeze(0)\n",
    "  midi_dur = torch.FloatTensor(item[\"midi_dur\"]).unsqueeze(0)\n",
    "  y_hat, mask, xx = net_g.infer(ph_token, ph_len, pitch_midi, midi_dur,max_len=1000,length_scale=length_scale)\n",
    "  audio = y_hat[0,0].data.float().numpy()\n",
    "  ipd.display(ipd.Audio(audio, rate=hps.data.sampling_rate))"
   ],
   "metadata": {
    "collapsed": false,
    "pycharm": {
     "name": "#%%\n"
    }
   }
  },
  {
   "cell_type": "code",
   "execution_count": null,
   "outputs": [],
   "source": [
    "_ = utils.load_checkpoint(\"G_236000.pth\", net_g, None)"
   ],
   "metadata": {
    "collapsed": false,
    "pycharm": {
     "name": "#%%\n"
    }
   }
  },
  {
   "cell_type": "code",
   "execution_count": null,
   "outputs": [],
   "source": [
    "inp = {\n",
    "  'text': \"你 说 你 不 SP 懂 为 何 在 这 时 牵 手 AP\",\n",
    "  'notes': \"D#4/Eb4 | D#4/Eb4 | D#4/Eb4  | D#4/Eb4 | rest | D#4/Eb4 | D4 | D4 | D4 | D#4/Eb4 | F4 | D#4/Eb4 | D4 | rest\",\n",
    "  'notes_duration': \"0.113740 | 0.329060 | 0.287950 | 0.133480 | 0.150900 | 0.484730 | 0.242010 | 0.180820 | 0.343570 | 0.152050 | 0.266720 | 0.280310 | 0.633300 | 0.444590\",\n",
    "  'input_type': 'word'\n",
    "}\n",
    "\n",
    "infer(inp,1.1)"
   ],
   "metadata": {
    "collapsed": false,
    "pycharm": {
     "name": "#%%\n"
    }
   }
  },
  {
   "cell_type": "code",
   "execution_count": null,
   "outputs": [],
   "source": [
    "inp = {\n",
    "  \"note_seq\": \"C4 C4 D4 D4 D4 D4 D4 D4 rest D4 D4 A#3/Bb3 A#3/Bb3 rest A#3/Bb3 A#3/Bb3 A#3/Bb3 A#3/Bb3 rest A#3/Bb3 A#3/Bb3 A#3/Bb3 A#3/Bb3 D#4/Eb4 D#4/Eb4 rest\",\n",
    "  \"note_dur_seq\": \"0.232140 0.232140 0.160180 0.160180 0.363150 0.363150 0.161340 0.161340 0.074290 0.280500 0.280500 0.502820 0.502820 0.211830 0.301390 0.301390 0.116070 0.116070 0.122460 0.252690 0.252690 0.502010 0.502010 0.475340 0.475340 0.335450\",\n",
    "  \"ph_seq\": \"y v l in sh i l e SP t ian k ong AP h ui d e SP g eng j iang j iu AP\",\n",
    "  \"input_type\": \"phoneme\"\n",
    "}\n",
    "infer(inp,1.1)"
   ],
   "metadata": {
    "collapsed": false,
    "pycharm": {
     "name": "#%%\n"
    }
   }
  },
  {
   "cell_type": "code",
   "execution_count": 1,
   "outputs": [],
   "source": [
    "from infer_utils import preprocess_input"
   ],
   "metadata": {
    "collapsed": false,
    "pycharm": {
     "name": "#%%\n"
    }
   }
  },
  {
   "cell_type": "code",
   "execution_count": 6,
   "outputs": [
    {
     "name": "stdout",
     "output_type": "stream",
     "text": [
      "The number of words does't match the number of notes' windows.  You should split the note(s) for each word by | mark.\n",
      "['m o', 'd uo'] ['D#4/Eb4'] ['0.113740']\n",
      "2 1 1\n",
      "==========> Preprocess_word_level or phone_level input wrong.\n"
     ]
    }
   ],
   "source": [
    "inp = {\n",
    "  'text': \"摸多\",\n",
    "  'notes': \"D#4/Eb4\",\n",
    "  'notes_duration': \"0.113740\",\n",
    "  'input_type': 'word'\n",
    "}\n",
    "preprocess_input(inp)"
   ],
   "metadata": {
    "collapsed": false,
    "pycharm": {
     "name": "#%%\n"
    }
   }
  },
  {
   "cell_type": "code",
   "execution_count": null,
   "outputs": [],
   "source": [],
   "metadata": {
    "collapsed": false,
    "pycharm": {
     "name": "#%%\n"
    }
   }
  }
 ],
 "metadata": {
  "kernelspec": {
   "display_name": "Python 3",
   "language": "python",
   "name": "python3"
  },
  "language_info": {
   "codemirror_mode": {
    "name": "ipython",
    "version": 2
   },
   "file_extension": ".py",
   "mimetype": "text/x-python",
   "name": "python",
   "nbconvert_exporter": "python",
   "pygments_lexer": "ipython2",
   "version": "2.7.6"
  }
 },
 "nbformat": 4,
 "nbformat_minor": 0
}